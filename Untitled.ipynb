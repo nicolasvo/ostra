{
 "cells": [
  {
   "cell_type": "code",
   "execution_count": 27,
   "metadata": {},
   "outputs": [],
   "source": [
    "import gspread\n",
    "from oauth2client.service_account import ServiceAccountCredentials\n",
    "\n",
    "scope = ['https://spreadsheets.google.com/feeds', 'https://www.googleapis.com/auth/drive']\n",
    "creds = ServiceAccountCredentials.from_json_keyfile_name('ostra-dd1177d64769.json', scope)\n",
    "client = gspread.authorize(creds)\n",
    "\n",
    "sheet = client.open(\"russian\").sheet1"
   ]
  },
  {
   "cell_type": "markdown",
   "metadata": {},
   "source": [
    "### List cells"
   ]
  },
  {
   "cell_type": "code",
   "execution_count": 93,
   "metadata": {},
   "outputs": [
    {
     "name": "stdout",
     "output_type": "stream",
     "text": [
      "1 {'en': 'hey', 'ru': 'Привет', 'es': ''}\n",
      "2 {'en': 'swim', 'ru': 'плавать', 'es': ''}\n",
      "3 {'en': 'nice', 'ru': 'плавать', 'es': ''}\n",
      "4 {'en': 'something', 'ru': 'что-то', 'es': 'alguna cosa'}\n",
      "5 {'en': 'crazy', 'ru': 'псих', 'es': ''}\n",
      "6 {'en': 'snowman', 'ru': 'снеговик', 'es': ''}\n"
     ]
    }
   ],
   "source": [
    "list_all = sheet.get_all_records()\n",
    "for index, word in enumerate(list_all):\n",
    "    print(index+1, word)"
   ]
  },
  {
   "cell_type": "markdown",
   "metadata": {},
   "source": [
    "### Update cell"
   ]
  },
  {
   "cell_type": "code",
   "execution_count": 90,
   "metadata": {},
   "outputs": [],
   "source": [
    "map_language = {index+1: language for index, language in enumerate(sheet.row_values(1))}"
   ]
  },
  {
   "cell_type": "code",
   "execution_count": 83,
   "metadata": {},
   "outputs": [],
   "source": [
    "#=GOOGLETRANSLATE(A5,\"en\",\"ru\")\n",
    "\n",
    "def translate(row, col, word):\n",
    "    \n",
    "    from_language = map_language[col]\n",
    "    to_languages = [{\"language\": language, \"index\": index} for index, language in map_language.items() if language!=from_language]\n",
    "    \n",
    "    for to_language in to_languages:\n",
    "        content = f'=GOOGLETRANSLATE(\"{word}\", \"{from_language}\", \"{to_language[\"language\"]}\")'\n",
    "        sheet.update_cell(row, col, word)\n",
    "        sheet.update_cell(row, to_language[\"index\"], content)"
   ]
  },
  {
   "cell_type": "code",
   "execution_count": 94,
   "metadata": {},
   "outputs": [],
   "source": [
    "translate(5, 1, \"door\")"
   ]
  }
 ],
 "metadata": {
  "kernelspec": {
   "display_name": "Python 3",
   "language": "python",
   "name": "python3"
  },
  "language_info": {
   "codemirror_mode": {
    "name": "ipython",
    "version": 3
   },
   "file_extension": ".py",
   "mimetype": "text/x-python",
   "name": "python",
   "nbconvert_exporter": "python",
   "pygments_lexer": "ipython3",
   "version": "3.7.0"
  }
 },
 "nbformat": 4,
 "nbformat_minor": 2
}
