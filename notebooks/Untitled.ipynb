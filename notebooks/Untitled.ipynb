{
 "cells": [
  {
   "cell_type": "code",
   "execution_count": 13,
   "metadata": {},
   "outputs": [],
   "source": [
    "import gspread\n",
    "from oauth2client.service_account import ServiceAccountCredentials\n",
    "\n",
    "scope = ['https://spreadsheets.google.com/feeds', 'https://www.googleapis.com/auth/drive']\n",
    "creds = ServiceAccountCredentials.from_json_keyfile_name('ostra-dd1177d64769.json', scope)\n",
    "client = gspread.authorize(creds)\n",
    "\n",
    "sheet = client.open(\"dictionary\").sheet1"
   ]
  },
  {
   "cell_type": "markdown",
   "metadata": {},
   "source": [
    "### List cells"
   ]
  },
  {
   "cell_type": "code",
   "execution_count": 14,
   "metadata": {},
   "outputs": [
    {
     "name": "stdout",
     "output_type": "stream",
     "text": [
      "1 {'en': 'bike', 'ru': 'велосипед', 'es': 'bicicleta'}\n"
     ]
    }
   ],
   "source": [
    "list_all = sheet.get_all_records()\n",
    "for index, word in enumerate(list_all):\n",
    "    print(index+1, word)"
   ]
  },
  {
   "cell_type": "markdown",
   "metadata": {},
   "source": [
    "### Update cell"
   ]
  },
  {
   "cell_type": "code",
   "execution_count": 15,
   "metadata": {},
   "outputs": [],
   "source": [
    "class Translator():\n",
    "    \n",
    "    def __init__(self, sheet):\n",
    "        self.sheet = sheet\n",
    "        self.map_language = {index+1: language for index, language in enumerate(sheet.row_values(1))}\n",
    "        self.to_languages = [{\"language\": language, \"index\": index} for index, language in self.map_language.items()]\n",
    "        \n",
    "    def show(self):\n",
    "        list_all = self.sheet.get_all_records()\n",
    "        return list_all\n",
    "    \n",
    "    def translate(self, row, col, word, from_language, to_language):\n",
    "        content = f'=GOOGLETRANSLATE(\"{word}\", \"{from_language}\", \"{to_language[\"language\"]}\")'\n",
    "        self.sheet.update_cell(row, col, word)\n",
    "        self.sheet.update_cell(row, to_language[\"index\"], content)\n",
    "    \n",
    "    def translate_row(self, row, col, word):\n",
    "        from_language = self.map_language[col]\n",
    "        to_languages = [elt for elt in self.to_languages if elt[\"language\"]!=from_language]\n",
    "        for to_language in to_languages:\n",
    "            self.translate(row, col, word, from_language, to_language)\n",
    "            \n",
    "    def delete(self, row, col):\n",
    "        self.sheet.update_cell(row, col, \"\")\n",
    "        \n",
    "    def delete_row_(self, row):\n",
    "        self.sheet.delete_row(row)\n",
    "        \n",
    "    def clean(self):\n",
    "        list_all = self.show()\n",
    "        rows = []\n",
    "        for index, list_ in enumerate(list_all):\n",
    "            if not any(word.strip() for word in list(list_.values())):\n",
    "                rows.append(index+1)\n",
    "        for row in sorted(rows, reverse=True):\n",
    "            self.delete_row_(row)"
   ]
  },
  {
   "cell_type": "code",
   "execution_count": 22,
   "metadata": {},
   "outputs": [
    {
     "data": {
      "text/plain": [
       "[{'en': 'plane', 'ru': 'самолет', 'es': 'avión'},\n",
       " {'en': 'the train', 'ru': 'поезд', 'es': 'el tren'}]"
      ]
     },
     "execution_count": 22,
     "metadata": {},
     "output_type": "execute_result"
    }
   ],
   "source": [
    "translator = Translator(sheet)\n",
    "\n",
    "translator.map_language\n",
    "translator.translate_row(3, 1, \"the train\")\n",
    "translator.show()"
   ]
  },
  {
   "cell_type": "code",
   "execution_count": 23,
   "metadata": {},
   "outputs": [
    {
     "data": {
      "text/plain": [
       "[{'en': 'plane', 'ru': 'самолет', 'es': 'avión'},\n",
       " {'en': 'the train', 'ru': 'поезд', 'es': 'el tren'}]"
      ]
     },
     "execution_count": 23,
     "metadata": {},
     "output_type": "execute_result"
    }
   ],
   "source": [
    "translator.show()"
   ]
  }
 ],
 "metadata": {
  "kernelspec": {
   "display_name": "Python 3",
   "language": "python",
   "name": "python3"
  },
  "language_info": {
   "codemirror_mode": {
    "name": "ipython",
    "version": 3
   },
   "file_extension": ".py",
   "mimetype": "text/x-python",
   "name": "python",
   "nbconvert_exporter": "python",
   "pygments_lexer": "ipython3",
   "version": "3.7.0"
  }
 },
 "nbformat": 4,
 "nbformat_minor": 2
}
